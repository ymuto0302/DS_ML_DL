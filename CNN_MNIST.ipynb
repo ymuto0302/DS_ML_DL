{
 "cells": [
  {
   "cell_type": "markdown",
   "metadata": {
    "id": "3ZUJiVn2PchF"
   },
   "source": [
    "## CNN (リサーチワークショップⅡ, 2024)"
   ]
  },
  {
   "cell_type": "code",
   "execution_count": 1,
   "metadata": {
    "id": "61vuK44xmc2z"
   },
   "outputs": [],
   "source": [
    "import torch\n",
    "import torch.nn as nn\n",
    "import torch.optim as optim\n",
    "import torch.nn.functional as F\n",
    "from torch.utils.data import Dataset, DataLoader\n",
    "import torchvision\n",
    "import torchvision.transforms as transforms\n",
    "import numpy as np\n",
    "import os"
   ]
  },
  {
   "cell_type": "code",
   "execution_count": 2,
   "metadata": {
    "id": "RHdaezRbpfqQ"
   },
   "outputs": [],
   "source": [
    "# 再現性を担保するため，乱数を固定\n",
    "np.random.seed(1234)\n",
    "torch.manual_seed(1234)\n",
    "\n",
    "# 演算に用いるデバイスを指定\n",
    "device = torch.device('cuda' if torch.cuda.is_available() else 'cpu')\n",
    "\n",
    "# Tensor へ変換するための transforms\n",
    "transform = transforms.Compose([transforms.ToTensor()])\n",
    "'''\n",
    "transform = transforms.Compose([transforms.ToTensor(),\n",
    "                                lambda x: x.view(-1)])\n",
    "'''\n",
    "\n",
    "# データの取得\n",
    "root = os.path.join('data', 'mnist')\n",
    "mnist_train = torchvision.datasets.MNIST(root=root, download=True, train=True,\n",
    "                                         transform=transforms.ToTensor())\n",
    "mnist_test =  torchvision.datasets.MNIST(root=root, download=True, train=False,\n",
    "                                         transform=transforms.ToTensor())\n",
    "\n",
    "# data loader の定義\n",
    "batch_size = 32\n",
    "train_dataloader = DataLoader(mnist_train, batch_size=batch_size, shuffle=True)\n",
    "test_dataloader = DataLoader(mnist_test, batch_size=batch_size, shuffle=False)"
   ]
  },
  {
   "cell_type": "code",
   "execution_count": 3,
   "metadata": {
    "colab": {
     "base_uri": "https://localhost:8080/"
    },
    "id": "LbIggLYCQuFY",
    "outputId": "44443c58-48c9-4a36-ac82-882aab648d22"
   },
   "outputs": [
    {
     "name": "stdout",
     "output_type": "stream",
     "text": [
      "torch.Size([32, 1, 28, 28])\n"
     ]
    }
   ],
   "source": [
    "x, _ = next(iter(test_dataloader))\n",
    "print(x.shape) # [32, 1, 28, 28]"
   ]
  },
  {
   "cell_type": "code",
   "execution_count": 4,
   "metadata": {
    "id": "Vo-4feGAwRbA"
   },
   "outputs": [],
   "source": [
    "# モデル CNN の定義\n",
    "class Net(nn.Module):\n",
    "    def __init__(self):\n",
    "        super(Net, self).__init__()\n",
    "        \n",
    "        self.layer1 = nn.Sequential(\n",
    "            nn.Conv2d(1, 16, kernel_size=3, stride=1),\n",
    "            # nn.BatchNorm2d(16),\n",
    "            nn.ReLU(),\n",
    "            nn.MaxPool2d(kernel_size=2, stride=2))\n",
    "        \n",
    "        self.layer2 = nn.Sequential(\n",
    "            nn.Conv2d(16, 32, kernel_size=3,  stride=1),\n",
    "            # nn.BatchNorm2d(32),\n",
    "            nn.ReLU(),\n",
    "            nn.MaxPool2d(kernel_size=2, stride=2))\n",
    "\n",
    "        self.fc = nn.Linear(5*5*32, 10)\n",
    "\n",
    "    def forward(self, x):\n",
    "        x = self.layer1(x)\n",
    "        x = self.layer2(x)\n",
    "        # print(x.shape)\n",
    "        #import sys\n",
    "        #sys.exit()\n",
    "        x = x.view(x.size(0), -1)\n",
    "        x = self.fc(x)\n",
    "        return x"
   ]
  },
  {
   "cell_type": "code",
   "execution_count": 5,
   "metadata": {
    "id": "pRwOVwAinOHl"
   },
   "outputs": [],
   "source": [
    "# モデルのインスタンス化\n",
    "model = Net().to(device)\n",
    "\n",
    "# 損失関数と最適化関数の定義\n",
    "criterion = nn.CrossEntropyLoss()\n",
    "optimizer = optim.Adam(model.parameters(), lr=0.001)"
   ]
  },
  {
   "cell_type": "code",
   "execution_count": 6,
   "metadata": {
    "colab": {
     "base_uri": "https://localhost:8080/"
    },
    "id": "p6H6c6gMTAx_",
    "outputId": "e55c6d8d-6a46-44fd-9f31-3e79d83e4e33"
   },
   "outputs": [
    {
     "ename": "ModuleNotFoundError",
     "evalue": "No module named 'torchsummary'",
     "output_type": "error",
     "traceback": [
      "\u001b[0;31m---------------------------------------------------------------------------\u001b[0m",
      "\u001b[0;31mModuleNotFoundError\u001b[0m                       Traceback (most recent call last)",
      "Cell \u001b[0;32mIn[6], line 1\u001b[0m\n\u001b[0;32m----> 1\u001b[0m \u001b[38;5;28;01mfrom\u001b[39;00m \u001b[38;5;21;01mtorchsummary\u001b[39;00m \u001b[38;5;28;01mimport\u001b[39;00m summary\n\u001b[1;32m      2\u001b[0m model \u001b[38;5;241m=\u001b[39m Net()\u001b[38;5;241m.\u001b[39mto(device)\n\u001b[1;32m      3\u001b[0m summary(model, (\u001b[38;5;241m1\u001b[39m, \u001b[38;5;241m28\u001b[39m, \u001b[38;5;241m28\u001b[39m))\n",
      "\u001b[0;31mModuleNotFoundError\u001b[0m: No module named 'torchsummary'"
     ]
    }
   ],
   "source": [
    "from torchsummary import summary\n",
    "model = Net().to(device)\n",
    "summary(model, (1, 28, 28))"
   ]
  },
  {
   "cell_type": "code",
   "execution_count": 7,
   "metadata": {
    "colab": {
     "base_uri": "https://localhost:8080/",
     "height": 478
    },
    "id": "UkVtu80BoTu5",
    "outputId": "62b9b638-eb01-4af5-f902-706293c039b8"
   },
   "outputs": [
    {
     "name": "stderr",
     "output_type": "stream",
     "text": [
      "100%|██████████████████████████████████████| 1875/1875 [00:07<00:00, 243.71it/s]\n",
      "100%|████████████████████████████████████████| 313/313 [00:00<00:00, 314.11it/s]\n"
     ]
    },
    {
     "name": "stdout",
     "output_type": "stream",
     "text": [
      "Epoch: 1, Train Loss: 0.214928, Test Loss: 0.073786, Test Accuracy: 0.976100\n"
     ]
    },
    {
     "name": "stderr",
     "output_type": "stream",
     "text": [
      "100%|██████████████████████████████████████| 1875/1875 [00:07<00:00, 263.23it/s]\n",
      "100%|████████████████████████████████████████| 313/313 [00:00<00:00, 342.33it/s]\n"
     ]
    },
    {
     "name": "stdout",
     "output_type": "stream",
     "text": [
      "Epoch: 2, Train Loss: 0.071283, Test Loss: 0.050967, Test Accuracy: 0.982600\n"
     ]
    },
    {
     "name": "stderr",
     "output_type": "stream",
     "text": [
      "100%|██████████████████████████████████████| 1875/1875 [00:07<00:00, 255.31it/s]\n",
      "100%|████████████████████████████████████████| 313/313 [00:00<00:00, 327.47it/s]\n"
     ]
    },
    {
     "name": "stdout",
     "output_type": "stream",
     "text": [
      "Epoch: 3, Train Loss: 0.054571, Test Loss: 0.042846, Test Accuracy: 0.985200\n"
     ]
    },
    {
     "name": "stderr",
     "output_type": "stream",
     "text": [
      "100%|██████████████████████████████████████| 1875/1875 [00:07<00:00, 255.83it/s]\n",
      "100%|████████████████████████████████████████| 313/313 [00:00<00:00, 322.67it/s]\n"
     ]
    },
    {
     "name": "stdout",
     "output_type": "stream",
     "text": [
      "Epoch: 4, Train Loss: 0.043607, Test Loss: 0.042069, Test Accuracy: 0.986600\n"
     ]
    },
    {
     "name": "stderr",
     "output_type": "stream",
     "text": [
      "100%|██████████████████████████████████████| 1875/1875 [00:07<00:00, 243.84it/s]\n",
      "100%|████████████████████████████████████████| 313/313 [00:00<00:00, 317.62it/s]\n"
     ]
    },
    {
     "name": "stdout",
     "output_type": "stream",
     "text": [
      "Epoch: 5, Train Loss: 0.036771, Test Loss: 0.033810, Test Accuracy: 0.988700\n"
     ]
    },
    {
     "name": "stderr",
     "output_type": "stream",
     "text": [
      "100%|██████████████████████████████████████| 1875/1875 [00:07<00:00, 248.80it/s]\n",
      "100%|████████████████████████████████████████| 313/313 [00:01<00:00, 298.88it/s]\n"
     ]
    },
    {
     "name": "stdout",
     "output_type": "stream",
     "text": [
      "Epoch: 6, Train Loss: 0.032069, Test Loss: 0.036563, Test Accuracy: 0.987800\n"
     ]
    },
    {
     "name": "stderr",
     "output_type": "stream",
     "text": [
      "100%|██████████████████████████████████████| 1875/1875 [00:07<00:00, 238.83it/s]\n",
      "100%|████████████████████████████████████████| 313/313 [00:01<00:00, 306.84it/s]\n"
     ]
    },
    {
     "name": "stdout",
     "output_type": "stream",
     "text": [
      "Epoch: 7, Train Loss: 0.027681, Test Loss: 0.040484, Test Accuracy: 0.986000\n"
     ]
    },
    {
     "name": "stderr",
     "output_type": "stream",
     "text": [
      "100%|██████████████████████████████████████| 1875/1875 [00:07<00:00, 246.01it/s]\n",
      "100%|████████████████████████████████████████| 313/313 [00:01<00:00, 287.44it/s]\n"
     ]
    },
    {
     "name": "stdout",
     "output_type": "stream",
     "text": [
      "Epoch: 8, Train Loss: 0.024074, Test Loss: 0.031501, Test Accuracy: 0.989200\n"
     ]
    },
    {
     "name": "stderr",
     "output_type": "stream",
     "text": [
      "100%|██████████████████████████████████████| 1875/1875 [00:07<00:00, 243.32it/s]\n",
      "100%|████████████████████████████████████████| 313/313 [00:01<00:00, 307.76it/s]\n"
     ]
    },
    {
     "name": "stdout",
     "output_type": "stream",
     "text": [
      "Epoch: 9, Train Loss: 0.021884, Test Loss: 0.036151, Test Accuracy: 0.987400\n"
     ]
    },
    {
     "name": "stderr",
     "output_type": "stream",
     "text": [
      "100%|██████████████████████████████████████| 1875/1875 [00:07<00:00, 240.73it/s]\n",
      "100%|████████████████████████████████████████| 313/313 [00:00<00:00, 313.45it/s]\n"
     ]
    },
    {
     "name": "stdout",
     "output_type": "stream",
     "text": [
      "Epoch: 10, Train Loss: 0.018674, Test Loss: 0.033446, Test Accuracy: 0.989000\n"
     ]
    },
    {
     "name": "stderr",
     "output_type": "stream",
     "text": [
      "100%|██████████████████████████████████████| 1875/1875 [00:07<00:00, 246.66it/s]\n",
      "100%|████████████████████████████████████████| 313/313 [00:01<00:00, 309.33it/s]\n"
     ]
    },
    {
     "name": "stdout",
     "output_type": "stream",
     "text": [
      "Epoch: 11, Train Loss: 0.016291, Test Loss: 0.033149, Test Accuracy: 0.989000\n"
     ]
    },
    {
     "name": "stderr",
     "output_type": "stream",
     "text": [
      "100%|██████████████████████████████████████| 1875/1875 [00:07<00:00, 244.32it/s]\n",
      "100%|████████████████████████████████████████| 313/313 [00:00<00:00, 314.36it/s]\n"
     ]
    },
    {
     "name": "stdout",
     "output_type": "stream",
     "text": [
      "Epoch: 12, Train Loss: 0.013657, Test Loss: 0.038421, Test Accuracy: 0.988900\n"
     ]
    },
    {
     "name": "stderr",
     "output_type": "stream",
     "text": [
      "100%|██████████████████████████████████████| 1875/1875 [00:07<00:00, 246.38it/s]\n",
      "100%|████████████████████████████████████████| 313/313 [00:01<00:00, 306.56it/s]\n"
     ]
    },
    {
     "name": "stdout",
     "output_type": "stream",
     "text": [
      "Epoch: 13, Train Loss: 0.013577, Test Loss: 0.031811, Test Accuracy: 0.990000\n"
     ]
    },
    {
     "name": "stderr",
     "output_type": "stream",
     "text": [
      "100%|██████████████████████████████████████| 1875/1875 [00:07<00:00, 248.18it/s]\n",
      "100%|████████████████████████████████████████| 313/313 [00:00<00:00, 314.42it/s]\n"
     ]
    },
    {
     "name": "stdout",
     "output_type": "stream",
     "text": [
      "Epoch: 14, Train Loss: 0.011976, Test Loss: 0.037914, Test Accuracy: 0.988100\n"
     ]
    },
    {
     "name": "stderr",
     "output_type": "stream",
     "text": [
      "100%|██████████████████████████████████████| 1875/1875 [00:07<00:00, 243.54it/s]\n",
      "100%|████████████████████████████████████████| 313/313 [00:01<00:00, 311.75it/s]\n"
     ]
    },
    {
     "name": "stdout",
     "output_type": "stream",
     "text": [
      "Epoch: 15, Train Loss: 0.010525, Test Loss: 0.036856, Test Accuracy: 0.988900\n"
     ]
    },
    {
     "name": "stderr",
     "output_type": "stream",
     "text": [
      "100%|██████████████████████████████████████| 1875/1875 [00:07<00:00, 251.04it/s]\n",
      "100%|████████████████████████████████████████| 313/313 [00:01<00:00, 312.12it/s]\n"
     ]
    },
    {
     "name": "stdout",
     "output_type": "stream",
     "text": [
      "Epoch: 16, Train Loss: 0.009754, Test Loss: 0.048109, Test Accuracy: 0.986900\n"
     ]
    },
    {
     "name": "stderr",
     "output_type": "stream",
     "text": [
      "100%|██████████████████████████████████████| 1875/1875 [00:07<00:00, 246.65it/s]\n",
      "100%|████████████████████████████████████████| 313/313 [00:01<00:00, 300.74it/s]\n"
     ]
    },
    {
     "name": "stdout",
     "output_type": "stream",
     "text": [
      "Epoch: 17, Train Loss: 0.009060, Test Loss: 0.035490, Test Accuracy: 0.989500\n"
     ]
    },
    {
     "name": "stderr",
     "output_type": "stream",
     "text": [
      "100%|██████████████████████████████████████| 1875/1875 [00:07<00:00, 240.77it/s]\n",
      "100%|████████████████████████████████████████| 313/313 [00:00<00:00, 313.56it/s]\n"
     ]
    },
    {
     "name": "stdout",
     "output_type": "stream",
     "text": [
      "Epoch: 18, Train Loss: 0.008319, Test Loss: 0.033752, Test Accuracy: 0.989900\n"
     ]
    },
    {
     "name": "stderr",
     "output_type": "stream",
     "text": [
      "100%|██████████████████████████████████████| 1875/1875 [00:07<00:00, 244.93it/s]\n",
      "100%|████████████████████████████████████████| 313/313 [00:00<00:00, 316.17it/s]\n"
     ]
    },
    {
     "name": "stdout",
     "output_type": "stream",
     "text": [
      "Epoch: 19, Train Loss: 0.007512, Test Loss: 0.038594, Test Accuracy: 0.990200\n"
     ]
    },
    {
     "name": "stderr",
     "output_type": "stream",
     "text": [
      "100%|██████████████████████████████████████| 1875/1875 [00:07<00:00, 241.06it/s]\n",
      "100%|████████████████████████████████████████| 313/313 [00:01<00:00, 309.95it/s]\n"
     ]
    },
    {
     "name": "stdout",
     "output_type": "stream",
     "text": [
      "Epoch: 20, Train Loss: 0.006429, Test Loss: 0.048048, Test Accuracy: 0.986400\n"
     ]
    },
    {
     "name": "stderr",
     "output_type": "stream",
     "text": [
      "100%|██████████████████████████████████████| 1875/1875 [00:07<00:00, 245.19it/s]\n",
      "100%|████████████████████████████████████████| 313/313 [00:01<00:00, 306.88it/s]\n"
     ]
    },
    {
     "name": "stdout",
     "output_type": "stream",
     "text": [
      "Epoch: 21, Train Loss: 0.006838, Test Loss: 0.043657, Test Accuracy: 0.987900\n"
     ]
    },
    {
     "name": "stderr",
     "output_type": "stream",
     "text": [
      "100%|██████████████████████████████████████| 1875/1875 [00:07<00:00, 244.51it/s]\n",
      "100%|████████████████████████████████████████| 313/313 [00:01<00:00, 306.83it/s]\n"
     ]
    },
    {
     "name": "stdout",
     "output_type": "stream",
     "text": [
      "Epoch: 22, Train Loss: 0.005825, Test Loss: 0.055493, Test Accuracy: 0.987100\n"
     ]
    },
    {
     "name": "stderr",
     "output_type": "stream",
     "text": [
      "100%|██████████████████████████████████████| 1875/1875 [00:07<00:00, 241.51it/s]\n",
      "100%|████████████████████████████████████████| 313/313 [00:01<00:00, 311.80it/s]\n"
     ]
    },
    {
     "name": "stdout",
     "output_type": "stream",
     "text": [
      "Epoch: 23, Train Loss: 0.005627, Test Loss: 0.049050, Test Accuracy: 0.988300\n"
     ]
    },
    {
     "name": "stderr",
     "output_type": "stream",
     "text": [
      "100%|██████████████████████████████████████| 1875/1875 [00:07<00:00, 244.94it/s]\n",
      "100%|████████████████████████████████████████| 313/313 [00:00<00:00, 319.23it/s]\n"
     ]
    },
    {
     "name": "stdout",
     "output_type": "stream",
     "text": [
      "Epoch: 24, Train Loss: 0.004324, Test Loss: 0.047209, Test Accuracy: 0.989000\n"
     ]
    },
    {
     "name": "stderr",
     "output_type": "stream",
     "text": [
      "100%|██████████████████████████████████████| 1875/1875 [00:07<00:00, 244.35it/s]\n",
      "100%|████████████████████████████████████████| 313/313 [00:00<00:00, 319.38it/s]\n"
     ]
    },
    {
     "name": "stdout",
     "output_type": "stream",
     "text": [
      "Epoch: 25, Train Loss: 0.004845, Test Loss: 0.048206, Test Accuracy: 0.988700\n"
     ]
    },
    {
     "name": "stderr",
     "output_type": "stream",
     "text": [
      "100%|██████████████████████████████████████| 1875/1875 [00:07<00:00, 246.70it/s]\n",
      "100%|████████████████████████████████████████| 313/313 [00:00<00:00, 319.99it/s]\n"
     ]
    },
    {
     "name": "stdout",
     "output_type": "stream",
     "text": [
      "Epoch: 26, Train Loss: 0.003796, Test Loss: 0.052972, Test Accuracy: 0.988800\n"
     ]
    },
    {
     "name": "stderr",
     "output_type": "stream",
     "text": [
      "100%|██████████████████████████████████████| 1875/1875 [00:07<00:00, 243.70it/s]\n",
      "100%|████████████████████████████████████████| 313/313 [00:01<00:00, 302.87it/s]\n"
     ]
    },
    {
     "name": "stdout",
     "output_type": "stream",
     "text": [
      "Epoch: 27, Train Loss: 0.004871, Test Loss: 0.045443, Test Accuracy: 0.991000\n"
     ]
    },
    {
     "name": "stderr",
     "output_type": "stream",
     "text": [
      "100%|██████████████████████████████████████| 1875/1875 [00:07<00:00, 248.73it/s]\n",
      "100%|████████████████████████████████████████| 313/313 [00:01<00:00, 301.20it/s]\n"
     ]
    },
    {
     "name": "stdout",
     "output_type": "stream",
     "text": [
      "Epoch: 28, Train Loss: 0.003926, Test Loss: 0.056604, Test Accuracy: 0.987700\n"
     ]
    },
    {
     "name": "stderr",
     "output_type": "stream",
     "text": [
      "100%|██████████████████████████████████████| 1875/1875 [00:07<00:00, 245.54it/s]\n",
      "100%|████████████████████████████████████████| 313/313 [00:01<00:00, 309.89it/s]\n"
     ]
    },
    {
     "name": "stdout",
     "output_type": "stream",
     "text": [
      "Epoch: 29, Train Loss: 0.003949, Test Loss: 0.049625, Test Accuracy: 0.988200\n"
     ]
    },
    {
     "name": "stderr",
     "output_type": "stream",
     "text": [
      "100%|██████████████████████████████████████| 1875/1875 [00:07<00:00, 243.76it/s]\n",
      "100%|████████████████████████████████████████| 313/313 [00:01<00:00, 308.13it/s]\n"
     ]
    },
    {
     "name": "stdout",
     "output_type": "stream",
     "text": [
      "Epoch: 30, Train Loss: 0.003254, Test Loss: 0.062167, Test Accuracy: 0.986800\n"
     ]
    },
    {
     "name": "stderr",
     "output_type": "stream",
     "text": [
      "100%|██████████████████████████████████████| 1875/1875 [00:07<00:00, 248.13it/s]\n",
      "100%|████████████████████████████████████████| 313/313 [00:01<00:00, 305.56it/s]\n"
     ]
    },
    {
     "name": "stdout",
     "output_type": "stream",
     "text": [
      "Epoch: 31, Train Loss: 0.003899, Test Loss: 0.041770, Test Accuracy: 0.989800\n"
     ]
    },
    {
     "name": "stderr",
     "output_type": "stream",
     "text": [
      "100%|██████████████████████████████████████| 1875/1875 [00:07<00:00, 243.95it/s]\n",
      "100%|████████████████████████████████████████| 313/313 [00:01<00:00, 311.33it/s]\n"
     ]
    },
    {
     "name": "stdout",
     "output_type": "stream",
     "text": [
      "Epoch: 32, Train Loss: 0.003227, Test Loss: 0.047501, Test Accuracy: 0.989900\n"
     ]
    },
    {
     "name": "stderr",
     "output_type": "stream",
     "text": [
      "100%|██████████████████████████████████████| 1875/1875 [00:07<00:00, 244.22it/s]\n",
      "100%|████████████████████████████████████████| 313/313 [00:01<00:00, 304.94it/s]\n"
     ]
    },
    {
     "name": "stdout",
     "output_type": "stream",
     "text": [
      "Epoch: 33, Train Loss: 0.002884, Test Loss: 0.049818, Test Accuracy: 0.990100\n"
     ]
    },
    {
     "name": "stderr",
     "output_type": "stream",
     "text": [
      "100%|██████████████████████████████████████| 1875/1875 [00:07<00:00, 245.01it/s]\n",
      "100%|████████████████████████████████████████| 313/313 [00:01<00:00, 309.90it/s]\n"
     ]
    },
    {
     "name": "stdout",
     "output_type": "stream",
     "text": [
      "Epoch: 34, Train Loss: 0.003245, Test Loss: 0.049617, Test Accuracy: 0.988500\n"
     ]
    },
    {
     "name": "stderr",
     "output_type": "stream",
     "text": [
      "100%|██████████████████████████████████████| 1875/1875 [00:07<00:00, 244.99it/s]\n",
      "100%|████████████████████████████████████████| 313/313 [00:01<00:00, 307.36it/s]\n"
     ]
    },
    {
     "name": "stdout",
     "output_type": "stream",
     "text": [
      "Epoch: 35, Train Loss: 0.002589, Test Loss: 0.046552, Test Accuracy: 0.990900\n"
     ]
    },
    {
     "name": "stderr",
     "output_type": "stream",
     "text": [
      "100%|██████████████████████████████████████| 1875/1875 [00:07<00:00, 244.38it/s]\n",
      "100%|████████████████████████████████████████| 313/313 [00:01<00:00, 308.65it/s]\n"
     ]
    },
    {
     "name": "stdout",
     "output_type": "stream",
     "text": [
      "Epoch: 36, Train Loss: 0.003383, Test Loss: 0.056703, Test Accuracy: 0.989000\n"
     ]
    },
    {
     "name": "stderr",
     "output_type": "stream",
     "text": [
      "100%|██████████████████████████████████████| 1875/1875 [00:07<00:00, 245.73it/s]\n",
      "100%|████████████████████████████████████████| 313/313 [00:01<00:00, 306.06it/s]\n"
     ]
    },
    {
     "name": "stdout",
     "output_type": "stream",
     "text": [
      "Epoch: 37, Train Loss: 0.002305, Test Loss: 0.055932, Test Accuracy: 0.989200\n"
     ]
    },
    {
     "name": "stderr",
     "output_type": "stream",
     "text": [
      "100%|██████████████████████████████████████| 1875/1875 [00:07<00:00, 245.85it/s]\n",
      "100%|████████████████████████████████████████| 313/313 [00:00<00:00, 328.12it/s]\n"
     ]
    },
    {
     "name": "stdout",
     "output_type": "stream",
     "text": [
      "Epoch: 38, Train Loss: 0.003285, Test Loss: 0.063193, Test Accuracy: 0.988300\n"
     ]
    },
    {
     "name": "stderr",
     "output_type": "stream",
     "text": [
      "100%|██████████████████████████████████████| 1875/1875 [00:07<00:00, 243.83it/s]\n",
      "100%|████████████████████████████████████████| 313/313 [00:01<00:00, 301.08it/s]\n"
     ]
    },
    {
     "name": "stdout",
     "output_type": "stream",
     "text": [
      "Epoch: 39, Train Loss: 0.001980, Test Loss: 0.067443, Test Accuracy: 0.986800\n"
     ]
    },
    {
     "name": "stderr",
     "output_type": "stream",
     "text": [
      "100%|██████████████████████████████████████| 1875/1875 [00:07<00:00, 246.18it/s]\n",
      "100%|████████████████████████████████████████| 313/313 [00:01<00:00, 312.23it/s]\n"
     ]
    },
    {
     "name": "stdout",
     "output_type": "stream",
     "text": [
      "Epoch: 40, Train Loss: 0.003031, Test Loss: 0.058756, Test Accuracy: 0.988400\n"
     ]
    },
    {
     "name": "stderr",
     "output_type": "stream",
     "text": [
      "100%|██████████████████████████████████████| 1875/1875 [00:07<00:00, 244.89it/s]\n",
      "100%|████████████████████████████████████████| 313/313 [00:01<00:00, 304.27it/s]\n"
     ]
    },
    {
     "name": "stdout",
     "output_type": "stream",
     "text": [
      "Epoch: 41, Train Loss: 0.002420, Test Loss: 0.069873, Test Accuracy: 0.987900\n"
     ]
    },
    {
     "name": "stderr",
     "output_type": "stream",
     "text": [
      "100%|██████████████████████████████████████| 1875/1875 [00:07<00:00, 260.27it/s]\n",
      "100%|████████████████████████████████████████| 313/313 [00:00<00:00, 314.45it/s]\n"
     ]
    },
    {
     "name": "stdout",
     "output_type": "stream",
     "text": [
      "Epoch: 42, Train Loss: 0.001999, Test Loss: 0.055390, Test Accuracy: 0.989700\n"
     ]
    },
    {
     "name": "stderr",
     "output_type": "stream",
     "text": [
      "100%|██████████████████████████████████████| 1875/1875 [00:07<00:00, 248.78it/s]\n",
      "100%|████████████████████████████████████████| 313/313 [00:01<00:00, 305.64it/s]\n"
     ]
    },
    {
     "name": "stdout",
     "output_type": "stream",
     "text": [
      "Epoch: 43, Train Loss: 0.003162, Test Loss: 0.062127, Test Accuracy: 0.988300\n"
     ]
    },
    {
     "name": "stderr",
     "output_type": "stream",
     "text": [
      "100%|██████████████████████████████████████| 1875/1875 [00:07<00:00, 243.75it/s]\n",
      "100%|████████████████████████████████████████| 313/313 [00:00<00:00, 314.56it/s]\n"
     ]
    },
    {
     "name": "stdout",
     "output_type": "stream",
     "text": [
      "Epoch: 44, Train Loss: 0.000924, Test Loss: 0.059668, Test Accuracy: 0.989500\n"
     ]
    },
    {
     "name": "stderr",
     "output_type": "stream",
     "text": [
      "100%|██████████████████████████████████████| 1875/1875 [00:07<00:00, 246.70it/s]\n",
      "100%|████████████████████████████████████████| 313/313 [00:00<00:00, 335.38it/s]\n"
     ]
    },
    {
     "name": "stdout",
     "output_type": "stream",
     "text": [
      "Epoch: 45, Train Loss: 0.002857, Test Loss: 0.051650, Test Accuracy: 0.990300\n"
     ]
    },
    {
     "name": "stderr",
     "output_type": "stream",
     "text": [
      "100%|██████████████████████████████████████| 1875/1875 [00:07<00:00, 250.87it/s]\n",
      "100%|████████████████████████████████████████| 313/313 [00:00<00:00, 314.88it/s]\n"
     ]
    },
    {
     "name": "stdout",
     "output_type": "stream",
     "text": [
      "Epoch: 46, Train Loss: 0.002503, Test Loss: 0.056869, Test Accuracy: 0.988800\n"
     ]
    },
    {
     "name": "stderr",
     "output_type": "stream",
     "text": [
      "100%|██████████████████████████████████████| 1875/1875 [00:07<00:00, 246.23it/s]\n",
      "100%|████████████████████████████████████████| 313/313 [00:01<00:00, 301.80it/s]\n"
     ]
    },
    {
     "name": "stdout",
     "output_type": "stream",
     "text": [
      "Epoch: 47, Train Loss: 0.001632, Test Loss: 0.071925, Test Accuracy: 0.988200\n"
     ]
    },
    {
     "name": "stderr",
     "output_type": "stream",
     "text": [
      "100%|██████████████████████████████████████| 1875/1875 [00:07<00:00, 246.49it/s]\n",
      "100%|████████████████████████████████████████| 313/313 [00:01<00:00, 312.62it/s]\n"
     ]
    },
    {
     "name": "stdout",
     "output_type": "stream",
     "text": [
      "Epoch: 48, Train Loss: 0.002679, Test Loss: 0.063733, Test Accuracy: 0.989000\n"
     ]
    },
    {
     "name": "stderr",
     "output_type": "stream",
     "text": [
      "100%|██████████████████████████████████████| 1875/1875 [00:07<00:00, 261.71it/s]\n",
      "100%|████████████████████████████████████████| 313/313 [00:00<00:00, 329.92it/s]\n"
     ]
    },
    {
     "name": "stdout",
     "output_type": "stream",
     "text": [
      "Epoch: 49, Train Loss: 0.002650, Test Loss: 0.058149, Test Accuracy: 0.989200\n"
     ]
    },
    {
     "name": "stderr",
     "output_type": "stream",
     "text": [
      "100%|██████████████████████████████████████| 1875/1875 [00:07<00:00, 252.13it/s]\n",
      "100%|████████████████████████████████████████| 313/313 [00:01<00:00, 311.12it/s]"
     ]
    },
    {
     "name": "stdout",
     "output_type": "stream",
     "text": [
      "Epoch: 50, Train Loss: 0.001223, Test Loss: 0.069707, Test Accuracy: 0.989300\n"
     ]
    },
    {
     "name": "stderr",
     "output_type": "stream",
     "text": [
      "\n"
     ]
    }
   ],
   "source": [
    "from tqdm import tqdm\n",
    "\n",
    "epochs = 50 # 100\n",
    "\n",
    "train_loss_history = []\n",
    "test_loss_history = []\n",
    "test_acc_history = []\n",
    "\n",
    "for epoch in range(epochs):\n",
    "    # 学習\n",
    "    model.train()\n",
    "\n",
    "    running_loss = 0\n",
    "    for images, labels in tqdm(train_dataloader):\n",
    "        images = images.to(device)\n",
    "        labels = labels.to(device)\n",
    "\n",
    "        optimizer.zero_grad()\n",
    "        outputs = model(images) # 順伝播\n",
    "        loss = criterion(outputs, labels) # 誤差\n",
    "        running_loss += loss.item()\n",
    "        loss.backward() # 誤差の逆伝播\n",
    "        optimizer.step() # パラメータ更新\n",
    "\n",
    "\n",
    "    train_loss = running_loss / len(train_dataloader)\n",
    "    train_loss_history.append(train_loss) # 損失の記録\n",
    "\n",
    "    # テスト\n",
    "    model.eval()\n",
    "    \n",
    "    running_loss = 0\n",
    "    total = 0 # データ数\n",
    "    correct = 0 # 正解数を保存\n",
    "    for images, labels in tqdm(test_dataloader):\n",
    "        images = images.to(device)\n",
    "        labels = labels.to(device)\n",
    "\n",
    "        ### optimizer.zero_grad()\n",
    "        outputs = model(images) # 順伝播\n",
    "        loss = criterion(outputs, labels) # 誤差\n",
    "        running_loss += loss.item()\n",
    "        ### loss.backward() # 誤差の逆伝播\n",
    "        ### optimizer.step() # パラメータ更新\n",
    "\n",
    "        predicted = torch.argmax(outputs, dim=1)\n",
    "        correct += torch.sum(predicted == labels)\n",
    "        total += labels.size(0)\n",
    "        '''\n",
    "        print(labels)\n",
    "        print(predicted)\n",
    "        '''\n",
    "\n",
    "        '''\n",
    "        import sys\n",
    "        sys.exit()\n",
    "        '''\n",
    "        \n",
    "    test_loss = running_loss / len(test_dataloader)\n",
    "    test_acc = correct.item() / total\n",
    "    test_loss_history.append(test_loss) # 損失の記録\n",
    "    test_acc_history.append(test_acc)\n",
    "\n",
    "    print('Epoch: {}, Train Loss: {:5f}, Test Loss: {:5f}, Test Accuracy: {:5f}'.format(epoch+1,\n",
    "                                                                               train_loss,\n",
    "                                                                               test_loss,\n",
    "                                                                               test_acc))\n",
    "\n",
    "    # latent space の状態を描画\n",
    "    ### plot_latent_space(epoch+1)"
   ]
  },
  {
   "cell_type": "code",
   "execution_count": 16,
   "metadata": {},
   "outputs": [
    {
     "data": {
      "text/plain": [
       "[0.05393103964665982, 0.05484753033002222]"
      ]
     },
     "execution_count": 16,
     "metadata": {},
     "output_type": "execute_result"
    }
   ],
   "source": [
    "train_loss_history"
   ]
  },
  {
   "cell_type": "code",
   "execution_count": 8,
   "metadata": {
    "colab": {
     "base_uri": "https://localhost:8080/",
     "height": 452
    },
    "id": "LppvJijTE-aL",
    "outputId": "1539b052-b289-4710-d0b9-af5489692255",
    "scrolled": true
   },
   "outputs": [
    {
     "data": {
      "image/png": "[encoded data removed]",
      "text/plain": [
       "<Figure size 1200x500 with 2 Axes>"
      ]
     },
     "metadata": {},
     "output_type": "display_data"
    }
   ],
   "source": [
    "# 損失，正解率の可視化\n",
    "import matplotlib.pyplot as plt\n",
    "\n",
    "epochs = np.arange(1, len(train_loss_history)+1) # x軸\n",
    "\n",
    "train_loss_history = np.array(train_loss_history) # y軸\n",
    "test_loss_history = np.array(test_loss_history) # y軸\n",
    "test_acc_history = np.array(test_acc_history) # y軸\n",
    "\n",
    "fig = plt.figure(figsize=(12, 5))\n",
    "\n",
    "ax1 = fig.add_subplot(1, 2, 1)\n",
    "ax1.set_title('Loss')\n",
    "ax1.plot(epochs, train_loss_history, label=\"train loss\")\n",
    "ax1.plot(epochs, test_loss_history, label=\"test loss\")\n",
    "ax1.legend()\n",
    "\n",
    "ax2 = fig.add_subplot(1, 2, 2)\n",
    "### ax2.set_ylim([0.9, 1.0])\n",
    "ax2.set_title('Acuuracy')\n",
    "ax2.plot(epochs, test_acc_history)\n",
    "\n",
    "plt.show()"
   ]
  },
  {
   "cell_type": "code",
   "execution_count": 9,
   "metadata": {
    "id": "tD9z2zH3sVhI"
   },
   "outputs": [
    {
     "name": "stderr",
     "output_type": "stream",
     "text": [
      "100%|████████████████████████████████████████| 313/313 [00:00<00:00, 321.77it/s]\n"
     ]
    },
    {
     "data": {
      "text/plain": [
       "<sklearn.metrics._plot.confusion_matrix.ConfusionMatrixDisplay at 0x775b3bccc1d0>"
      ]
     },
     "execution_count": 9,
     "metadata": {},
     "output_type": "execute_result"
    },
    {
     "data": {
      "image/png": "[encoded data removed]",
      "text/plain": [
       "<Figure size 1000x1000 with 2 Axes>"
      ]
     },
     "metadata": {},
     "output_type": "display_data"
    }
   ],
   "source": [
    "cm_predicted_list = [] # confusion matrix で利用するため予測値を蓄える\n",
    "cm_true_list = [] # confusion matrix で利用するため真値を蓄える\n",
    "    \n",
    "for images, labels in tqdm(test_dataloader):\n",
    "    images = images.to(device)\n",
    "    labels = labels.to(device)\n",
    "\n",
    "    ### optimizer.zero_grad()\n",
    "    outputs = model(images) # 順伝播\n",
    "    loss = criterion(outputs, labels) # 誤差\n",
    "    running_loss += loss.item()\n",
    "    ### loss.backward() # 誤差の逆伝播\n",
    "    ### optimizer.step() # パラメータ更新\n",
    "\n",
    "    predicted = torch.argmax(outputs, dim=1)\n",
    "\n",
    "    # confusion matrix のため予測値／真値を蓄える\n",
    "    cm_predicted_list += predicted.tolist()\n",
    "    cm_true_list += labels.tolist()\n",
    "        \n",
    "# confusion matrix\n",
    "from sklearn.metrics import confusion_matrix, ConfusionMatrixDisplay\n",
    "\n",
    "cm = confusion_matrix(cm_true_list, cm_predicted_list)\n",
    "# cmp = ConfusionMatrixDisplay(cm, display_labels=['b_fully_ripened', 'b_half_ripened', 'b_green'])\n",
    "cmp = ConfusionMatrixDisplay(cm)\n",
    "\n",
    "fig, ax = plt.subplots(figsize=(10, 10))\n",
    "ax.set_title('MNIST dataset')\n",
    "# cmp.plot(cmap=plt.cm.Blues, xticks_rotation='vertical', ax=ax) \n",
    "cmp.plot(cmap=plt.cm.Blues, ax=ax) "
   ]
  },
  {
   "cell_type": "code",
   "execution_count": null,
   "metadata": {},
   "outputs": [],
   "source": []
  }
 ],
 "metadata": {
  "accelerator": "GPU",
  "colab": {
   "gpuType": "T4",
   "provenance": []
  },
  "kernelspec": {
   "display_name": "Python 3 (ipykernel)",
   "language": "python",
   "name": "python3"
  },
  "language_info": {
   "codemirror_mode": {
    "name": "ipython",
    "version": 3
   },
   "file_extension": ".py",
   "mimetype": "text/x-python",
   "name": "python",
   "nbconvert_exporter": "python",
   "pygments_lexer": "ipython3",
   "version": "3.11.8"
  }
 },
 "nbformat": 4,
 "nbformat_minor": 1
}
