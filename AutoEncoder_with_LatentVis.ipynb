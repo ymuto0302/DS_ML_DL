{
 "cells": [
  {
   "cell_type": "markdown",
   "metadata": {
    "id": "3ZUJiVn2PchF"
   },
   "source": [
    "## AutoEncoder (リサーチワークショップⅡ, 2024)"
   ]
  },
  {
   "cell_type": "code",
   "execution_count": 5,
   "metadata": {
    "id": "61vuK44xmc2z"
   },
   "outputs": [],
   "source": [
    "import torch\n",
    "import torch.nn as nn\n",
    "import torch.optim as optim\n",
    "import torch.nn.functional as F\n",
    "from torch.utils.data import Dataset, DataLoader\n",
    "import torchvision\n",
    "import torchvision.transforms as transforms\n",
    "import numpy as np\n",
    "import os"
   ]
  },
  {
   "cell_type": "code",
   "execution_count": 6,
   "metadata": {
    "id": "RHdaezRbpfqQ"
   },
   "outputs": [],
   "source": [
    "# 再現性を担保するため，乱数を固定\n",
    "np.random.seed(1234)\n",
    "torch.manual_seed(1234)\n",
    "\n",
    "# 演算に用いるデバイスを指定\n",
    "device = torch.device('cuda' if torch.cuda.is_available() else 'cpu')\n",
    "\n",
    "# Tensor へ変換するための transforms\n",
    "transform = transforms.Compose([transforms.ToTensor(),\n",
    "                                lambda x: x.view(-1)])\n",
    "\n",
    "# データの取得\n",
    "root = os.path.join('data', 'mnist')\n",
    "mnist_train = torchvision.datasets.MNIST(root=root, download=True, train=True, transform=transform)\n",
    "mnist_test =  torchvision.datasets.MNIST(root=root, download=True, train=False, transform=transform)\n",
    "\n",
    "# data loader の定義\n",
    "train_dataloader = DataLoader(mnist_train, batch_size=100, shuffle=True)\n",
    "test_dataloader = DataLoader(mnist_test, batch_size=1, shuffle=False)"
   ]
  },
  {
   "cell_type": "code",
   "execution_count": 7,
   "metadata": {
    "id": "Vo-4feGAwRbA"
   },
   "outputs": [],
   "source": [
    "# モデル AutoEncoder の定義\n",
    "class Encoder(nn.Module):\n",
    "    def __init__(self, input_size):\n",
    "        super().__init__()\n",
    "        self.fc1 = nn.Linear(input_size, 512)\n",
    "        self.fc2 = nn.Linear(512, 64)\n",
    "        self.fc3 = nn.Linear(64, 16)\n",
    "        self.fc4 = nn.Linear(16, 2)\n",
    "\n",
    "    def forward(self, x):\n",
    "        x = torch.relu(self.fc1(x))\n",
    "        x = torch.relu(self.fc2(x))\n",
    "        x = torch.relu(self.fc3(x))\n",
    "        x = self.fc4(x)\n",
    "        return x\n",
    "\n",
    "class Decoder(nn.Module):\n",
    "    def __init__(self, output_size):\n",
    "        super().__init__()\n",
    "        self.fc1 = nn.Linear(2, 16)\n",
    "        self.fc2 = nn.Linear(16, 64)\n",
    "        self.fc3 = nn.Linear(64, 512)\n",
    "        self.fc4 = nn.Linear(512, output_size)\n",
    "\n",
    "    def forward(self, x):\n",
    "        x = torch.relu(self.fc1(x))\n",
    "        x = torch.relu(self.fc2(x))\n",
    "        x = torch.relu(self.fc3(x))\n",
    "        x = torch.tanh(self.fc4(x)) # [-1, 1] へ変換するため\n",
    "        return x\n",
    "\n",
    "class AutoEncoder(nn.Module):\n",
    "    def __init__(self, original_size):\n",
    "        super().__init__()\n",
    "        self.encoder = Encoder(original_size)\n",
    "        self.decoder = Decoder(original_size)\n",
    "\n",
    "    def forward(self, x):\n",
    "        x = self.encoder(x)\n",
    "        x = self.decoder(x)\n",
    "        return x"
   ]
  },
  {
   "cell_type": "code",
   "execution_count": 8,
   "metadata": {
    "id": "pRwOVwAinOHl"
   },
   "outputs": [],
   "source": [
    "# モデルのインスタンス化\n",
    "model = AutoEncoder(original_size=28*28, ).to(device)\n",
    "\n",
    "# 損失関数と最適化関数の定義\n",
    "criterion = nn.MSELoss()\n",
    "optimizer = optim.Adam(model.parameters())"
   ]
  },
  {
   "cell_type": "code",
   "execution_count": 9,
   "metadata": {
    "id": "SjiqxcFu0W5W"
   },
   "outputs": [],
   "source": [
    "# latent space representation を可視化するためのコード\n",
    "def plot_latent_space(epoch=0):\n",
    "    model.eval()\n",
    "\n",
    "    points = []\n",
    "    labels = []\n",
    "\n",
    "    # テストデータをエンコーダーに加える\n",
    "    for idx, data in enumerate(test_dataloader):\n",
    "        x, label = [d.to(device) for d in data]\n",
    "\n",
    "        # we only need to encode the test data\n",
    "        projection = model.encoder(x.to(device))\n",
    "\n",
    "        # 座標 & ラベルの保存\n",
    "        points.extend(projection.detach().cpu().numpy())\n",
    "        labels.extend(label.detach().cpu().numpy())\n",
    "        del x, label # メモリ無駄遣いを避けるため\n",
    "\n",
    "    points = np.array(points)\n",
    "    labels = np.array(labels)\n",
    "\n",
    "    # 散布図\n",
    "    import matplotlib.pyplot as plt\n",
    "    plt.scatter(x=points[:, 0], y=points[:, 1], c=labels, s=2.0, cmap='tab10', alpha=0.9)\n",
    "    plt.title(\n",
    "        'Epoch: {}'.format(epoch)\n",
    "    )\n",
    "    ### plt.show()\n",
    "    plt.savefig(f\"epoch_{epoch:03d}.png\", bbox_inches=\"tight\")\n",
    "\n",
    "# plot_latent_space(10) # 動作チェック"
   ]
  },
  {
   "cell_type": "code",
   "execution_count": null,
   "metadata": {
    "colab": {
     "base_uri": "https://localhost:8080/",
     "height": 504
    },
    "id": "UkVtu80BoTu5",
    "outputId": "f0904580-4b87-4bf3-ebea-5707615cfbb1"
   },
   "outputs": [
    {
     "name": "stdout",
     "output_type": "stream",
     "text": [
      "Epoch: 1, Loss: 0.05312\n",
      "Epoch: 2, Loss: 0.04437\n",
      "Epoch: 3, Loss: 0.04179\n",
      "Epoch: 4, Loss: 0.04056\n",
      "Epoch: 5, Loss: 0.03958\n",
      "Epoch: 6, Loss: 0.03898\n",
      "Epoch: 7, Loss: 0.03860\n",
      "Epoch: 8, Loss: 0.03816\n",
      "Epoch: 9, Loss: 0.03776\n",
      "Epoch: 10, Loss: 0.03764\n",
      "Epoch: 11, Loss: 0.03725\n",
      "Epoch: 12, Loss: 0.03690\n",
      "Epoch: 13, Loss: 0.03686\n",
      "Epoch: 14, Loss: 0.03719\n",
      "Epoch: 15, Loss: 0.03655\n",
      "Epoch: 16, Loss: 0.03618\n",
      "Epoch: 17, Loss: 0.03626\n",
      "Epoch: 18, Loss: 0.03599\n",
      "Epoch: 19, Loss: 0.03593\n",
      "Epoch: 20, Loss: 0.03613\n",
      "Epoch: 21, Loss: 0.03636\n",
      "Epoch: 22, Loss: 0.03579\n",
      "Epoch: 23, Loss: 0.03563\n",
      "Epoch: 24, Loss: 0.03541\n",
      "Epoch: 25, Loss: 0.03552\n",
      "Epoch: 26, Loss: 0.03555\n",
      "Epoch: 27, Loss: 0.03535\n"
     ]
    }
   ],
   "source": [
    "epochs = 50\n",
    "\n",
    "train_loss_history = []\n",
    "for epoch in range(epochs):\n",
    "    model.train()\n",
    "\n",
    "    train_loss = 0.0\n",
    "    for (x, _) in train_dataloader:\n",
    "        x = x.to(device)\n",
    "\n",
    "        model.train()\n",
    "        preds = model(x) # 順伝播\n",
    "        loss = criterion(preds, x) # 誤差\n",
    "        optimizer.zero_grad()\n",
    "        loss.backward() # 誤差の逆伝播\n",
    "        optimizer.step() # パラメータ更新\n",
    "        train_loss += loss.item()\n",
    "\n",
    "    train_loss /= len(train_dataloader)\n",
    "    train_loss_history.append(train_loss) # 損失の記録\n",
    "\n",
    "    print('Epoch: {}, Loss: {:.5f}'.format(epoch+1, train_loss))\n",
    "\n",
    "    # latent space の状態を描画\n",
    "    plot_latent_space(epoch+1)"
   ]
  },
  {
   "cell_type": "code",
   "execution_count": 9,
   "metadata": {
    "colab": {
     "base_uri": "https://localhost:8080/",
     "height": 452
    },
    "id": "LppvJijTE-aL",
    "outputId": "1539b052-b289-4710-d0b9-af5489692255"
   },
   "outputs": [
    {
     "data": {
      "image/png": "[encoded data removed]",
      "text/plain": [
       "<Figure size 640x480 with 1 Axes>"
      ]
     },
     "metadata": {},
     "output_type": "display_data"
    }
   ],
   "source": [
    "# 損失の可視化\n",
    "import matplotlib.pyplot as plt\n",
    "\n",
    "train_loss_history = np.array(train_loss_history) # y軸\n",
    "epochs = np.arange(1, len(train_loss_history)+1) # x軸\n",
    "plt.title('Loss')\n",
    "plt.plot(epochs, train_loss_history)\n",
    "plt.show()"
   ]
  },
  {
   "cell_type": "code",
   "execution_count": 10,
   "metadata": {
    "colab": {
     "base_uri": "https://localhost:8080/",
     "height": 262
    },
    "id": "93-PlQYYrRbU",
    "outputId": "3cfe73f7-a01f-44d4-feb2-54d4541be821"
   },
   "outputs": [
    {
     "data": {
      "image/png": "[encoded data removed]",
      "text/plain": [
       "<Figure size 640x480 with 2 Axes>"
      ]
     },
     "metadata": {},
     "output_type": "display_data"
    }
   ],
   "source": [
    "# おまけ\n",
    "x, _ = next(iter(test_dataloader))\n",
    "x = x.to(device)\n",
    "\n",
    "model.eval()\n",
    "x_rec = model(x)\n",
    "\n",
    "import matplotlib.pyplot as plt\n",
    "for i, image in enumerate([x, x_rec]):\n",
    "    image = image.view(28, 28).detach().cpu().numpy()\n",
    "    plt.subplot(1, 2, i+1)\n",
    "    plt.imshow(image, cmap='binary_r')\n",
    "    plt.axis('off')\n",
    "plt.show()"
   ]
  },
  {
   "cell_type": "code",
   "execution_count": null,
   "metadata": {
    "id": "tD9z2zH3sVhI"
   },
   "outputs": [],
   "source": []
  }
 ],
 "metadata": {
  "accelerator": "GPU",
  "colab": {
   "gpuType": "T4",
   "provenance": []
  },
  "kernelspec": {
   "display_name": "Python 3 (ipykernel)",
   "language": "python",
   "name": "python3"
  },
  "language_info": {
   "codemirror_mode": {
    "name": "ipython",
    "version": 3
   },
   "file_extension": ".py",
   "mimetype": "text/x-python",
   "name": "python",
   "nbconvert_exporter": "python",
   "pygments_lexer": "ipython3",
   "version": "3.11.8"
  }
 },
 "nbformat": 4,
 "nbformat_minor": 1
}
